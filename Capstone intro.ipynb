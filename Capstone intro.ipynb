{
 "cells": [
  {
   "cell_type": "markdown",
   "id": "cdbe3cc2",
   "metadata": {},
   "source": [
    "**This notebook will be used for Python project**"
   ]
  },
  {
   "cell_type": "code",
   "execution_count": 1,
   "id": "c2f11a52",
   "metadata": {},
   "outputs": [],
   "source": [
    "import pandas as pd\n",
    "import numpy as np"
   ]
  },
  {
   "cell_type": "code",
   "execution_count": 3,
   "id": "113015b5",
   "metadata": {},
   "outputs": [
    {
     "name": "stdout",
     "output_type": "stream",
     "text": [
      "hello Capstone project course\n"
     ]
    }
   ],
   "source": [
    "print('hello Capstone project course')"
   ]
  },
  {
   "cell_type": "code",
   "execution_count": null,
   "id": "bb222b73",
   "metadata": {},
   "outputs": [],
   "source": []
  }
 ],
 "metadata": {
  "kernelspec": {
   "display_name": "Python 3",
   "language": "python",
   "name": "python3"
  },
  "language_info": {
   "codemirror_mode": {
    "name": "ipython",
    "version": 3
   },
   "file_extension": ".py",
   "mimetype": "text/x-python",
   "name": "python",
   "nbconvert_exporter": "python",
   "pygments_lexer": "ipython3",
   "version": "3.8.8"
  }
 },
 "nbformat": 4,
 "nbformat_minor": 5
}
